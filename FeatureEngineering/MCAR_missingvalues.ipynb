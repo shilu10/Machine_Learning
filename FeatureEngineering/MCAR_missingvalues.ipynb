{
 "cells": [
  {
   "cell_type": "code",
   "execution_count": 111,
   "id": "3ceca0c5",
   "metadata": {},
   "outputs": [],
   "source": [
    "import pandas as pd\n",
    "import numpy as np\n",
    "import matplotlib.pyplot as plt\n",
    "import seaborn as sns\n",
    "df = pd.read_csv('/home/kali/Downloads/titanictrain.csv', usecols = ['Age'])"
   ]
  },
  {
   "cell_type": "code",
   "execution_count": 7,
   "id": "15ee4e0b",
   "metadata": {},
   "outputs": [
    {
     "data": {
      "text/html": [
       "<div>\n",
       "<style scoped>\n",
       "    .dataframe tbody tr th:only-of-type {\n",
       "        vertical-align: middle;\n",
       "    }\n",
       "\n",
       "    .dataframe tbody tr th {\n",
       "        vertical-align: top;\n",
       "    }\n",
       "\n",
       "    .dataframe thead th {\n",
       "        text-align: right;\n",
       "    }\n",
       "</style>\n",
       "<table border=\"1\" class=\"dataframe\">\n",
       "  <thead>\n",
       "    <tr style=\"text-align: right;\">\n",
       "      <th></th>\n",
       "      <th>Age</th>\n",
       "    </tr>\n",
       "  </thead>\n",
       "  <tbody>\n",
       "    <tr>\n",
       "      <th>0</th>\n",
       "      <td>22.0</td>\n",
       "    </tr>\n",
       "    <tr>\n",
       "      <th>1</th>\n",
       "      <td>38.0</td>\n",
       "    </tr>\n",
       "    <tr>\n",
       "      <th>2</th>\n",
       "      <td>26.0</td>\n",
       "    </tr>\n",
       "    <tr>\n",
       "      <th>3</th>\n",
       "      <td>35.0</td>\n",
       "    </tr>\n",
       "    <tr>\n",
       "      <th>4</th>\n",
       "      <td>35.0</td>\n",
       "    </tr>\n",
       "    <tr>\n",
       "      <th>...</th>\n",
       "      <td>...</td>\n",
       "    </tr>\n",
       "    <tr>\n",
       "      <th>886</th>\n",
       "      <td>27.0</td>\n",
       "    </tr>\n",
       "    <tr>\n",
       "      <th>887</th>\n",
       "      <td>19.0</td>\n",
       "    </tr>\n",
       "    <tr>\n",
       "      <th>888</th>\n",
       "      <td>NaN</td>\n",
       "    </tr>\n",
       "    <tr>\n",
       "      <th>889</th>\n",
       "      <td>26.0</td>\n",
       "    </tr>\n",
       "    <tr>\n",
       "      <th>890</th>\n",
       "      <td>32.0</td>\n",
       "    </tr>\n",
       "  </tbody>\n",
       "</table>\n",
       "<p>891 rows × 1 columns</p>\n",
       "</div>"
      ],
      "text/plain": [
       "      Age\n",
       "0    22.0\n",
       "1    38.0\n",
       "2    26.0\n",
       "3    35.0\n",
       "4    35.0\n",
       "..    ...\n",
       "886  27.0\n",
       "887  19.0\n",
       "888   NaN\n",
       "889  26.0\n",
       "890  32.0\n",
       "\n",
       "[891 rows x 1 columns]"
      ]
     },
     "execution_count": 7,
     "metadata": {},
     "output_type": "execute_result"
    }
   ],
   "source": [
    "df"
   ]
  },
  {
   "cell_type": "code",
   "execution_count": 8,
   "id": "cd0154a3",
   "metadata": {},
   "outputs": [
    {
     "data": {
      "text/plain": [
       "Age    177\n",
       "dtype: int64"
      ]
     },
     "execution_count": 8,
     "metadata": {},
     "output_type": "execute_result"
    }
   ],
   "source": [
    "df.isna().sum()"
   ]
  },
  {
   "cell_type": "markdown",
   "id": "55a84b09",
   "metadata": {},
   "source": [
    "## Types of Missing values\n",
    "#### 1. Missing Completely At Random (MCAR).\n",
    "#### 2. Missing At Random (MAR).\n",
    "#### 3. Missing Not At Random (MNAR)."
   ]
  },
  {
   "cell_type": "code",
   "execution_count": 9,
   "id": "088938c5",
   "metadata": {},
   "outputs": [],
   "source": [
    "# MCAR :\n",
    "# There won't be any relationship between the missing values and observed or unobserved values\n",
    "# There won't be any pattern of missing values. And probability of missing values will be same\n",
    "# for all of the records in the dataset."
   ]
  },
  {
   "cell_type": "code",
   "execution_count": 11,
   "id": "7cc32485",
   "metadata": {},
   "outputs": [],
   "source": [
    "# pretend Age as an MCAR.\n",
    "# Handling missing values of type MCAR.\n",
    "# 1. Mean/Mode Imputation.\n",
    "# 2. Random Sampling Imptutation."
   ]
  },
  {
   "cell_type": "markdown",
   "id": "8f80d294",
   "metadata": {},
   "source": [
    "#### In mean/mode/median imputation we will fill the missing values with the mean or median in regression. "
   ]
  },
  {
   "cell_type": "code",
   "execution_count": 47,
   "id": "e67cd43b",
   "metadata": {},
   "outputs": [],
   "source": [
    "def mm_imputation(df, feature, method = 'mean') :\n",
    "    if method == 'mean' :\n",
    "        value = df[feature].mean()\n",
    "    else :\n",
    "        value = df[feature].median()\n",
    "    df[feature + \"_\" + method] = df[feature].fillna(value)\n",
    "    print(\"[+] Task completed..\")"
   ]
  },
  {
   "cell_type": "code",
   "execution_count": 126,
   "id": "af4e46a8",
   "metadata": {},
   "outputs": [
    {
     "name": "stdout",
     "output_type": "stream",
     "text": [
      "[+] Task completed..\n"
     ]
    }
   ],
   "source": [
    "mm_imputation(df, 'Age', 'mean')"
   ]
  },
  {
   "cell_type": "code",
   "execution_count": 60,
   "id": "53477fdb",
   "metadata": {},
   "outputs": [
    {
     "data": {
      "text/plain": [
       "<matplotlib.legend.Legend at 0x7f494411f0>"
      ]
     },
     "execution_count": 60,
     "metadata": {},
     "output_type": "execute_result"
    },
    {
     "data": {
      "image/png": "[encoded data removed]",
      "text/plain": [
       "<Figure size 432x288 with 1 Axes>"
      ]
     },
     "metadata": {
      "needs_background": "light"
     },
     "output_type": "display_data"
    }
   ],
   "source": [
    "# plot of mean imputation\n",
    "# plot of distribution of age\n",
    "fig = plt.figure()\n",
    "df['Age'].plot(kind = 'kde')\n",
    "df['Age_mean'].plot(kind = 'kde', color = 'red')\n",
    "df['Age_median'].plot(kind = 'kde', color = 'brown')\n",
    "lines, labels = ax.get_legend_handles_labels()\n",
    "ax.legend(lines, labels, loc='best')"
   ]
  },
  {
   "cell_type": "code",
   "execution_count": 61,
   "id": "5c6c5e0b",
   "metadata": {},
   "outputs": [],
   "source": [
    "# Kurtosis changes for both mean and medain imputation\n",
    "# to create random sample imputation \n",
    "# 1. Count number of missing values.\n",
    "# 2. Create that much of samples."
   ]
  },
  {
   "cell_type": "code",
   "execution_count": 115,
   "id": "4dc08838",
   "metadata": {},
   "outputs": [],
   "source": [
    "def random_sampling_imputation(df, feature) :\n",
    "    df[feature + \"_\" + \"random_sample\"] = df[feature]\n",
    "    no_of_missing_values = df[feature].isna().sum()\n",
    "    sample_values = df[feature].dropna().sample(no_of_missing_values, random_state = 0)\n",
    "    sample_values.index = df[df[feature].isnull()].index\n",
    "    print(sample_values)\n",
    "    df.loc[df[feature].isnull(), feature + \"_\" + \"random_sample\"] = sample_values\n",
    "    "
   ]
  },
  {
   "cell_type": "code",
   "execution_count": 116,
   "id": "e3019d6f",
   "metadata": {},
   "outputs": [
    {
     "name": "stdout",
     "output_type": "stream",
     "text": [
      "5      28.00\n",
      "17     50.00\n",
      "19      0.92\n",
      "26     36.00\n",
      "28     26.00\n",
      "       ...  \n",
      "859    22.00\n",
      "863    25.00\n",
      "868    15.00\n",
      "878    34.00\n",
      "888    15.00\n",
      "Name: Age, Length: 177, dtype: float64\n"
     ]
    }
   ],
   "source": [
    "random_sampling_imputation(df, 'Age')"
   ]
  },
  {
   "cell_type": "code",
   "execution_count": null,
   "id": "7a64aa39",
   "metadata": {},
   "outputs": [],
   "source": []
  },
  {
   "cell_type": "code",
   "execution_count": 130,
   "id": "72bc3d95",
   "metadata": {},
   "outputs": [
    {
     "data": {
      "text/plain": [
       "<matplotlib.legend.Legend at 0x7f49212fa0>"
      ]
     },
     "execution_count": 130,
     "metadata": {},
     "output_type": "execute_result"
    },
    {
     "data": {
      "image/png": "[encoded data removed]",
      "text/plain": [
       "<Figure size 432x288 with 1 Axes>"
      ]
     },
     "metadata": {
      "needs_background": "light"
     },
     "output_type": "display_data"
    }
   ],
   "source": [
    "fig = plt.figure()\n",
    "df['Age'].plot(kind = 'kde', color = 'red')\n",
    "df.Age_random_sample.plot(kind = 'kde', color = 'yellow')\n",
    "lines, labels = ax.get_legend_handles_labels()\n",
    "ax.legend(lines, labels, loc='best')"
   ]
  },
  {
   "cell_type": "code",
   "execution_count": null,
   "id": "ff3f1012",
   "metadata": {},
   "outputs": [],
   "source": [
    "# kurtosis of random sampling is same as as feature kurtosis\n"
   ]
  }
 ],
 "metadata": {
  "kernelspec": {
   "display_name": "Python 3 (ipykernel)",
   "language": "python",
   "name": "python3"
  },
  "language_info": {
   "codemirror_mode": {
    "name": "ipython",
    "version": 3
   },
   "file_extension": ".py",
   "mimetype": "text/x-python",
   "name": "python",
   "nbconvert_exporter": "python",
   "pygments_lexer": "ipython3",
   "version": "3.9.10"
  }
 },
 "nbformat": 4,
 "nbformat_minor": 5
}
